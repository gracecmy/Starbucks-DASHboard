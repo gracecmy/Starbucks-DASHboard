{
 "metadata": {
  "language_info": {
   "codemirror_mode": {
    "name": "ipython",
    "version": 3
   },
   "file_extension": ".py",
   "mimetype": "text/x-python",
   "name": "python",
   "nbconvert_exporter": "python",
   "pygments_lexer": "ipython3",
   "version": "3.8.3-final"
  },
  "orig_nbformat": 2,
  "kernelspec": {
   "name": "Python 3.8.3 64-bit ('base': conda)",
   "display_name": "Python 3.8.3 64-bit ('base': conda)",
   "metadata": {
    "interpreter": {
     "hash": "dca0ade3e726a953b501b15e8e990130d2b7799f14cfd9f4271676035ebe5511"
    }
   }
  }
 },
 "nbformat": 4,
 "nbformat_minor": 2,
 "cells": [
  {
   "cell_type": "code",
   "execution_count": null,
   "metadata": {},
   "outputs": [],
   "source": [
    "import numpy as np\n",
    "import pandas as pd\n",
    "import plotly.express as px"
   ]
  },
  {
   "source": [
    "MAP"
   ],
   "cell_type": "markdown",
   "metadata": {}
  },
  {
   "cell_type": "code",
   "execution_count": null,
   "metadata": {},
   "outputs": [],
   "source": [
    "df_map=pd.read_csv(\"directory.csv\")\n",
    "df_map.drop(df_map.loc[df_map[\"Brand\"]==\"Teavana\"].index,inplace=True)\n",
    "df_map[\"Phone Number\"].fillna(\"n/a\",inplace=True)\n",
    "df_map[\"Postcode\"].fillna(\".\",inplace=True)\n",
    "df_map[\"Address\"]= np.where(df_map[\"Postcode\"]==\".\",(df_map[\"Street Address\"]+\", \"+df_map[\"City\"]),(df_map[\"Street Address\"]+\", \"+df_map[\"City\"]+\", \"+df_map[\"Postcode\"]))\n",
    "df_map.drop([\"Brand\",\"Store Number\",\"Street Address\",\"City\",\"State/Province\",\"Country\",\"Postcode\",\"Timezone\"],axis=1,inplace=True)\n",
    "df_map=df_map.reindex(columns=[\"Store Name\",\"Address\",\"Phone Number\",\"Ownership Type\",\"Latitude\",\"Longitude\"])"
   ]
  },
  {
   "cell_type": "code",
   "execution_count": null,
   "metadata": {},
   "outputs": [],
   "source": [
    "df_map.head()"
   ]
  },
  {
   "source": [
    "map figure:"
   ],
   "cell_type": "markdown",
   "metadata": {}
  },
  {
   "cell_type": "code",
   "execution_count": null,
   "metadata": {},
   "outputs": [],
   "source": [
    "figure_map=px.scatter_geo(data_frame=df_map,lat=\"Latitude\",lon=\"Longitude\",color=\"Ownership Type\",color_discrete_map={\"Licensed\":\"#bcbd22\",\"Joint Venture\":\"#d62728\",\"Company Owned\":\"#17becf\",\"Franchise\":\"#1f77b4\"},hover_name=\"Store Name\",hover_data={\"Address\":True,\"Phone Number\":True,\"Ownership Type\":False,\"Longitude\":False,\"Latitude\":False},template=\"ggplot2\")\n",
    "figure_map.update_layout(margin={\"t\":0,\"r\":0,\"b\":0,\"l\":0})\n",
    "figure_map.update_layout({\"plot_bgcolor\":\"rgba(0,0,0,0)\",\"paper_bgcolor\":\"rgba(0,0,0,0)\"})\n",
    "figure_map.update_layout(legend={\"title\":\"\",\"orientation\":\"h\",\"x\":0.5,\"y\":1,\"xanchor\":\"center\",\"bgcolor\":\"rgba(0,0,0,0)\"})"
   ]
  },
  {
   "source": [
    "DRINKS"
   ],
   "cell_type": "markdown",
   "metadata": {}
  },
  {
   "cell_type": "code",
   "execution_count": null,
   "metadata": {},
   "outputs": [],
   "source": [
    "df=pd.read_csv(\"starbucks_drinkMenu_expanded.csv\")\n",
    "df[\"Vitamin A (% DV)\"]=df[\"Vitamin A (% DV)\"].apply(lambda x:x.split(\"%\")[0])\n",
    "df[\"Vitamin C (% DV)\"]=df[\"Vitamin C (% DV)\"].apply(lambda x:x.split(\"%\")[0])\n",
    "df[\"Calcium (% DV)\"]=df[\"Calcium (% DV)\"].apply(lambda x:x.split(\"%\")[0])\n",
    "df[\"Iron (% DV)\"]=df[\"Iron (% DV)\"].apply(lambda x:x.split(\"%\")[0])\n",
    "df[[\"Total Fat (g)\",\"Vitamin A (% DV)\",\"Vitamin C (% DV)\",\"Calcium (% DV)\",\"Iron (% DV)\",\"Caffeine (mg)\"]]=df[[\"Total Fat (g)\",\"Vitamin A (% DV)\",\"Vitamin C (% DV)\",\"Calcium (% DV)\",\"Iron (% DV)\",\"Caffeine (mg)\"]].astype(\"float\")\n",
    "df[\"Milk\"].fillna(\"No Milk\",inplace=True)"
   ]
  },
  {
   "cell_type": "code",
   "execution_count": null,
   "metadata": {},
   "outputs": [],
   "source": [
    "df.head()"
   ]
  },
  {
   "source": [
    "category dropdown:"
   ],
   "cell_type": "markdown",
   "metadata": {}
  },
  {
   "cell_type": "code",
   "execution_count": null,
   "metadata": {},
   "outputs": [],
   "source": [
    "df[\"Category\"].unique()"
   ]
  },
  {
   "cell_type": "code",
   "execution_count": null,
   "metadata": {},
   "outputs": [],
   "source": [
    "#category dropdown options\n",
    "[{\"label\":i,\"value\":i} for i in df[\"Category\"].unique()]"
   ]
  },
  {
   "source": [
    "beverage dropdown:"
   ],
   "cell_type": "markdown",
   "metadata": {}
  },
  {
   "cell_type": "code",
   "execution_count": null,
   "metadata": {},
   "outputs": [],
   "source": [
    "df[\"Beverage\"].unique()"
   ]
  },
  {
   "cell_type": "code",
   "execution_count": null,
   "metadata": {},
   "outputs": [],
   "source": [
    "#@app.callback(\n",
    "#    Output(\"beverage_dropdown\",\"options\"),\n",
    "#    [Input(\"category_dropdown\",\"value\")])\n",
    "def set_beverage_options(selected_category):\n",
    "    beverage_options=[{\"label\":i,\"value\":i} for i in df[df[\"Category\"]==selected_category][\"Beverage\"].unique()]\n",
    "    return beverage_options"
   ]
  },
  {
   "cell_type": "code",
   "execution_count": null,
   "metadata": {},
   "outputs": [],
   "source": [
    "set_beverage_options(\"Classic Espresso Drinks\")"
   ]
  },
  {
   "cell_type": "code",
   "execution_count": null,
   "metadata": {},
   "outputs": [],
   "source": [
    "df[df[\"Category\"]==\"Classic Espresso Drinks\"][\"Beverage\"].unique()"
   ]
  },
  {
   "source": [
    "size dropdown:"
   ],
   "cell_type": "markdown",
   "metadata": {}
  },
  {
   "cell_type": "code",
   "execution_count": null,
   "metadata": {},
   "outputs": [],
   "source": [
    "df[\"Size\"].unique()"
   ]
  },
  {
   "cell_type": "code",
   "execution_count": null,
   "metadata": {},
   "outputs": [],
   "source": [
    "#@app.callback(\n",
    "#    Output(\"size_dropdown\",\"options\"),\n",
    "#    [Input(\"beverage_dropdown\",\"value\")])\n",
    "def set_size_options(selected_beverage):\n",
    "    size_options=[{\"label\":i,\"value\":i} for i in df[df[\"Beverage\"]==selected_beverage][\"Size\"].unique()]\n",
    "    return size_options"
   ]
  },
  {
   "cell_type": "code",
   "execution_count": null,
   "metadata": {},
   "outputs": [],
   "source": [
    "set_size_options(\"Espresso\")"
   ]
  },
  {
   "cell_type": "code",
   "execution_count": null,
   "metadata": {},
   "outputs": [],
   "source": [
    "df[df[\"Beverage\"]==\"Espresso\"][\"Size\"].unique()"
   ]
  },
  {
   "source": [
    "milk dropdown:"
   ],
   "cell_type": "markdown",
   "metadata": {}
  },
  {
   "cell_type": "code",
   "execution_count": null,
   "metadata": {},
   "outputs": [],
   "source": [
    "df[\"Milk\"].unique()"
   ]
  },
  {
   "cell_type": "code",
   "execution_count": null,
   "metadata": {},
   "outputs": [],
   "source": [
    "#@app.callback(\n",
    "#    Output(\"milk_dropdown\",\"options\"),\n",
    "#    [Input(\"size_dropdown\",\"value\"),\n",
    "#     Input(\"beverage_dropdown\",\"value\")])\n",
    "def set_milk_options(selected_size,selected_beverage):\n",
    "    milk_options=[{\"label\":i,\"value\":i} for i in df[(df[\"Size\"]==selected_size)&(df[\"Beverage\"]==selected_beverage)][\"Milk\"].unique()]\n",
    "    return milk_options"
   ]
  },
  {
   "cell_type": "code",
   "execution_count": null,
   "metadata": {},
   "outputs": [],
   "source": [
    "set_milk_options(\"Tall\",\"Mocha (Without Whipped Cream)\")"
   ]
  },
  {
   "cell_type": "code",
   "execution_count": null,
   "metadata": {},
   "outputs": [],
   "source": [
    "df[(df[\"Size\"]==\"Tall\")&(df[\"Beverage\"]==\"Mocha (Without Whipped Cream)\")][\"Milk\"].unique()"
   ]
  },
  {
   "source": [
    "nutrition figure:"
   ],
   "cell_type": "markdown",
   "metadata": {}
  },
  {
   "cell_type": "code",
   "execution_count": null,
   "metadata": {},
   "outputs": [],
   "source": [
    "#@app.callback(\n",
    "#    [Output(component_id=\"calories_output\",component_property=\"children\"),\n",
    "#     Output(component_id=\"caffeine_output\",component_property=\"children\"),\n",
    "#     Output(component_id=\"cholesterol_output\",component_property=\"children\"),\n",
    "#     Output(component_id=\"nutrition_figure\",component_property=\"figure\"),\n",
    "#     Output(component_id=\"vita_figure\",component_property=\"figure\"),\n",
    "#     Output(component_id=\"vitc_figure\",component_property=\"figure\"),\n",
    "#     Output(component_id=\"calci_figure\",component_property=\"figure\"),\n",
    "#     Output(component_id=\"iron_figure\",component_property=\"figure\")],\n",
    "#    [Input(component_id=\"category_dropdown\",component_property=\"value\"),\n",
    "#     Input(component_id=\"beverage_dropdown\",component_property=\"value\"),\n",
    "#     Input(component_id=\"size_dropdown\",component_property=\"value\"),\n",
    "#     Input(component_id=\"milk_dropdown\",component_property=\"value\")])\n",
    "def update_nutritional_figures(selected_category,selected_beverage,selected_size,selected_milk):\n",
    "\n",
    "    return calories,caffeine,cholesterol,figure_nutrition,figure_vita,figure_vitc,figure_calci,figure_iron"
   ]
  },
  {
   "cell_type": "code",
   "execution_count": null,
   "metadata": {},
   "outputs": [],
   "source": [
    "    if (selected_category is None)|(selected_beverage is None)|(selected_size is None)|(selected_milk is None):\n",
    "        calories=\"CALORIES: \"\n",
    "        caffeine=\"CAFFEINE:  (mg)\"\n",
    "        cholesterol=\"CHOLESTEROL:  (mg)\"\n",
    "\n",
    "        df_empty=pd.DataFrame([[\"Total Fat (g)\",0],[\"Trans Fat (g)\",0],[\"Saturated Fat (g)\",0],[\"Sodium (mg)\",0],[\"Total Carbohydrates (g)\",0],[\"Dietary Fibre (g)\",0],[\"Sugars (g)\",0],[\"Protein (g)\",0]],columns=[\"Nutrition\",\"Amount\"])\n",
    "        figure_nutrition=px.bar(data_frame=df_empty,x=\"Nutrition\",y=\"Amount\",color=\"Nutrition\",hover_name=\"Nutrition\",hover_data={\"Nutrition\":False},range_y=[0,10])\n",
    "        figure_nutrition.update_layout(xaxis_title=\"\",plot_bgcolor=\"rgba(0,0,0,0)\",paper_bgcolor=\"rgba(0,0,0,0)\")\n",
    "        figure_nutrition.add_annotation(xref=\"paper\",x=1.35,yref=\"paper\",y=0.09,showarrow=False,text=\"Click to remove or<br>doubleclick to<br>highlight a nutrition\",font={\"color\":\"#c7c7c7\"},bordercolor=\"#c7c7c7\",borderwidth=1.1,borderpad=7)\n",
    "\n",
    "        figure_vita=px.pie(values=[100],color_discrete_sequence=[\"#ededed\"],hole=0.5)\n",
    "        figure_vita.update_traces(textinfo=\"none\")\n",
    "        figure_vita.update_layout(hovermode=False,margin={\"t\":10,\"r\":10,\"b\":10,\"l\":10},plot_bgcolor=\"rgba(0,0,0,0)\",paper_bgcolor=\"rgba(0,0,0,0)\",showlegend=False)\n",
    "        figure_vita.add_annotation(x=0.5,y=0.5,showarrow=False,text=\"Vitamin A\",font={\"size\":18})\n",
    "\n",
    "        figure_vitc=px.pie(values=[100],color_discrete_sequence=[\"#ededed\"],hole=0.5)\n",
    "        figure_vitc.update_traces(textinfo=\"none\")\n",
    "        figure_vitc.update_layout(hovermode=False,margin={\"t\":10,\"r\":10,\"b\":10,\"l\":10},plot_bgcolor=\"rgba(0,0,0,0)\",paper_bgcolor=\"rgba(0,0,0,0)\",showlegend=False)\n",
    "        figure_vitc.add_annotation(x=0.5,y=0.5,showarrow=False,text=\"Vitamin C\",font={\"size\":18})\n",
    "\n",
    "        figure_calci=px.pie(values=[100],color_discrete_sequence=[\"#ededed\"],hole=0.5)\n",
    "        figure_calci.update_traces(textinfo=\"none\")\n",
    "        figure_calci.update_layout(hovermode=False,margin={\"t\":10,\"r\":10,\"b\":10,\"l\":10},plot_bgcolor=\"rgba(0,0,0,0)\",paper_bgcolor=\"rgba(0,0,0,0)\",showlegend=False)\n",
    "        figure_calci.add_annotation(x=0.5,y=0.5,showarrow=False,text=\"Calcium\",font={\"size\":18})\n",
    "\n",
    "        figure_iron=px.pie(values=[100],color_discrete_sequence=[\"#ededed\"],hole=0.5)\n",
    "        figure_iron.update_traces(textinfo=\"none\")\n",
    "        figure_iron.update_layout(hovermode=False,margin={\"t\":10,\"r\":10,\"b\":10,\"l\":10},plot_bgcolor=\"rgba(0,0,0,0)\",paper_bgcolor=\"rgba(0,0,0,0)\",showlegend=False)\n",
    "        figure_iron.add_annotation(x=0.5,y=0.5,showarrow=False,text=\"Iron\",font={\"size\":18})"
   ]
  },
  {
   "cell_type": "code",
   "execution_count": null,
   "metadata": {},
   "outputs": [],
   "source": [
    "    else:\n",
    "        dff=df[(df[\"Category\"]==selected_category)&(df[\"Beverage\"]==selected_beverage)&(df[\"Size\"]==selected_size)&(df[\"Milk\"]==selected_milk)]\n",
    "\n",
    "        calories=\"CALORIES: {}\".format(int(dff[\"Calories\"]))\n",
    "        caffeine=\"CAFFEINE: {} (mg)\".format(int(dff[\"Caffeine (mg)\"]))\n",
    "        cholesterol=\"CHOLESTEROL: {} (mg)\".format(int(dff[\"Cholesterol (mg)\"]))\n",
    "\n",
    "        df_nutrition=dff[[\"Total Fat (g)\",\"Trans Fat (g)\",\"Saturated Fat (g)\",\"Sodium (mg)\",\"Total Carbohydrates (g)\",\"Dietary Fibre (g)\",\"Sugars (g)\",\"Protein (g)\"]]\n",
    "        df_nutrition=df_nutrition.melt(var_name=\"Nutrition\",value_name=\"Amount\")\n",
    "        figure_nutrition=px.bar(data_frame=df_nutrition,x=\"Nutrition\",y=\"Amount\",color=\"Nutrition\",hover_name=\"Nutrition\",hover_data={\"Nutrition\":False})\n",
    "        figure_nutrition.update_layout(xaxis_title=\"\",plot_bgcolor=\"rgba(0,0,0,0)\",paper_bgcolor=\"rgba(0,0,0,0)\")\n",
    "        figure_nutrition.add_annotation(xref=\"paper\",x=1.35,yref=\"paper\",y=0.09,showarrow=False,text=\"Click to remove or<br>doubleclick to<br>highlight a nutrition\",font={\"color\":\"#c7c7c7\"},bordercolor=\"#c7c7c7\",borderwidth=1.1,borderpad=7)\n",
    "\n",
    "        df_vita=pd.DataFrame(data=[int(dff[\"Vitamin A (% DV)\"]),100-int(dff[\"Vitamin A (% DV)\"])],index=[\"Vit\",\"Nil\"],columns=[\"Percent\"])\n",
    "        figure_vita=px.pie(data_frame=df_vita,names=df_vita.index,values=\"Percent\",color=df_vita.index,color_discrete_map={df_vita.index[0]:\"yellow\",df_vita.index[1]:\"#ededed\"},hole=0.5)\n",
    "        figure_vita.update_traces(sort=False,textposition=\"outside\")\n",
    "        figure_vita.update_layout(hovermode=False,margin={\"t\":10,\"r\":10,\"b\":10,\"l\":10},plot_bgcolor=\"rgba(0,0,0,0)\",paper_bgcolor=\"rgba(0,0,0,0)\",showlegend=False)\n",
    "        figure_vita.add_annotation(x=0.5,y=0.5,showarrow=False,text=\"Vitamin A\",font={\"size\":18})\n",
    "\n",
    "        df_vitc=pd.DataFrame(data=[int(dff[\"Vitamin C (% DV)\"]),100-int(dff[\"Vitamin C (% DV)\"])],index=[\"Vit\",\"Nil\"],columns=[\"Percent\"])\n",
    "        figure_vitc=px.pie(data_frame=df_vitc,names=df_vitc.index,values=\"Percent\",color=df_vitc.index,color_discrete_map={df_vitc.index[0]:\"yellow\",df_vitc.index[1]:\"#ededed\"},hole=0.5)\n",
    "        figure_vitc.update_traces(sort=False,textposition=\"outside\")\n",
    "        figure_vitc.update_layout(hovermode=False,margin={\"t\":10,\"r\":10,\"b\":10,\"l\":10},plot_bgcolor=\"rgba(0,0,0,0)\",paper_bgcolor=\"rgba(0,0,0,0)\",showlegend=False)\n",
    "        figure_vitc.add_annotation(x=0.5,y=0.5,showarrow=False,text=\"Vitamin C\",font={\"size\":18})\n",
    "\n",
    "        df_calci=pd.DataFrame(data=[int(dff[\"Calcium (% DV)\"]),100-int(dff[\"Calcium (% DV)\"])],index=[\"Vit\",\"Nil\"],columns=[\"Percent\"])\n",
    "        figure_calci=px.pie(data_frame=df_calci,names=df_calci.index,values=\"Percent\",color=df_calci.index,color_discrete_map={df_calci.index[0]:\"yellow\",df_calci.index[1]:\"#ededed\"},hole=0.5)\n",
    "        figure_calci.update_traces(sort=False,textposition=\"outside\")\n",
    "        figure_calci.update_layout(hovermode=False,margin={\"t\":10,\"r\":10,\"b\":10,\"l\":10},plot_bgcolor=\"rgba(0,0,0,0)\",paper_bgcolor=\"rgba(0,0,0,0)\",showlegend=False)\n",
    "        figure_calci.add_annotation(x=0.5,y=0.5,showarrow=False,text=\"Calcium\",font={\"size\":18})\n",
    "\n",
    "        df_iron=pd.DataFrame(data=[int(dff[\"Iron (% DV)\"]),100-int(dff[\"Iron (% DV)\"])],index=[\"Vit\",\"Nil\"],columns=[\"Percent\"])\n",
    "        figure_iron=px.pie(data_frame=df_iron,names=df_iron.index,values=\"Percent\",color=df_iron.index,color_discrete_map={df_iron.index[0]:\"yellow\",df_iron.index[1]:\"#ededed\"},hole=0.5)\n",
    "        figure_iron.update_traces(sort=False,textposition=\"outside\")\n",
    "        figure_iron.update_layout(hovermode=False,margin={\"t\":10,\"r\":10,\"b\":10,\"l\":10},plot_bgcolor=\"rgba(0,0,0,0)\",paper_bgcolor=\"rgba(0,0,0,0)\",showlegend=False)\n",
    "        figure_iron.add_annotation(x=0.5,y=0.5,showarrow=False,text=\"Iron\",font={\"size\":18})"
   ]
  }
 ]
}